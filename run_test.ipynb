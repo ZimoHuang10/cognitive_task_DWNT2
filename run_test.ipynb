{
 "cells": [
  {
   "cell_type": "markdown",
   "id": "2d5a0966-2a57-41d3-8d04-85f4119ac9a8",
   "metadata": {},
   "source": [
    "### The ANS Test\n",
    "\n",
    "This program runs the ANS test, upoloading your results to an online spreadsheet.\n",
    "\n",
    "Select **Kernel** > **Restart Kernel and Run All Cells** from the menu to run the test."
   ]
  },
  {
   "cell_type": "code",
   "execution_count": 3,
   "id": "24caf4e2-7e0c-401a-a114-f166d0da7500",
   "metadata": {
    "editable": true,
    "slideshow": {
     "slide_type": ""
    },
    "tags": []
   },
   "outputs": [],
   "source": [
    "from ans_test import *\n",
    "run_ans()"
   ]
  },
  {
   "cell_type": "code",
   "execution_count": null,
   "id": "4f2f8ff3-0eb6-40ed-81dd-feb8afd7f14e",
   "metadata": {
    "editable": true,
    "slideshow": {
     "slide_type": ""
    },
    "tags": []
   },
   "outputs": [],
   "source": []
  },
  {
   "cell_type": "code",
   "execution_count": null,
   "id": "7e057752-a932-49e8-94a7-c1e1db2bf440",
   "metadata": {},
   "outputs": [],
   "source": []
  }
 ],
 "metadata": {
  "kernelspec": {
   "display_name": "Python 3 (ipykernel)",
   "language": "python",
   "name": "python3"
  },
  "language_info": {
   "codemirror_mode": {
    "name": "ipython",
    "version": 3
   },
   "file_extension": ".py",
   "mimetype": "text/x-python",
   "name": "python",
   "nbconvert_exporter": "python",
   "pygments_lexer": "ipython3",
   "version": "3.10.10"
  }
 },
 "nbformat": 4,
 "nbformat_minor": 5
}
